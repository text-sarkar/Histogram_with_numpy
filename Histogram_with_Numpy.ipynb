{
  "nbformat": 4,
  "nbformat_minor": 0,
  "metadata": {
    "colab": {
      "provenance": []
    },
    "kernelspec": {
      "name": "python3",
      "display_name": "Python 3"
    },
    "language_info": {
      "name": "python"
    }
  },
  "cells": [
    {
      "cell_type": "code",
      "source": [
        "import pandas as bd \n",
        "import numpy as np \n",
        "from scipy import stats\n",
        "age =[40,20,10,12,13,15,16,17]\n",
        "std = np.std(age)\n",
        "mean = np.mean(age)\n",
        "median = np.median(age) \n",
        "\n",
        "\n",
        "\n",
        "mode = stats.mode(age)\n",
        "z_scores = stats.zscore(age)\n",
        "\n",
        "print(mode)\n",
        "\n",
        "print(\"standard deviation\",std)\n",
        "print(\"Mean\" , mean) \n",
        "print(\"median\", median) \n",
        "print(\"mode\",mode)\n",
        "print(\"Z-score\" ,z_scores)\n"
      ],
      "metadata": {
        "colab": {
          "base_uri": "https://localhost:8080/"
        },
        "id": "k4GnqBGRpJEZ",
        "outputId": "e82d38f3-ae47-4f25-d4aa-aa214a708b72"
      },
      "execution_count": 1,
      "outputs": [
        {
          "output_type": "stream",
          "name": "stdout",
          "text": [
            "ModeResult(mode=array([10]), count=array([1]))\n",
            "standard deviation 8.852083088177608\n",
            "Mean 17.875\n",
            "median 15.5\n",
            "mode ModeResult(mode=array([10]), count=array([1]))\n",
            "Z-score [ 2.4994117   0.24005649 -0.88962111 -0.66368559 -0.55071783 -0.32478231\n",
            " -0.21181455 -0.09884679]\n"
          ]
        },
        {
          "output_type": "stream",
          "name": "stderr",
          "text": [
            "<ipython-input-1-28da700ee88f>:11: FutureWarning: Unlike other reduction functions (e.g. `skew`, `kurtosis`), the default behavior of `mode` typically preserves the axis it acts along. In SciPy 1.11.0, this behavior will change: the default value of `keepdims` will become False, the `axis` over which the statistic is taken will be eliminated, and the value None will no longer be accepted. Set `keepdims` to True or False to avoid this warning.\n",
            "  mode = stats.mode(age)\n"
          ]
        }
      ]
    },
    {
      "cell_type": "code",
      "source": [],
      "metadata": {
        "id": "bca71RLG_dWd"
      },
      "execution_count": null,
      "outputs": []
    },
    {
      "cell_type": "code",
      "source": [
        "\n",
        "\n",
        "import matplotlib.pyplot as plt\n",
        "\n",
        "plt.hist(age, bins=5)  \n",
        "\n",
        "# Add labels and title\n",
        "plt.xlabel('Age')\n",
        "plt.ylabel('Frequency')\n",
        "plt.title('Histogram of Age')\n",
        "plt.savefig('histogram.png', dpi=300)  # Specify the file name and DPI (optional)\n",
        "\n",
        "# Display the histogram\n",
        "plt.show()\n",
        "     \n"
      ],
      "metadata": {
        "colab": {
          "base_uri": "https://localhost:8080/",
          "height": 472
        },
        "id": "NDEYDWqEzYDZ",
        "outputId": "d772efff-ca41-45e7-e6bb-fab300cbe5ec"
      },
      "execution_count": 2,
      "outputs": [
        {
          "output_type": "display_data",
          "data": {
            "text/plain": [
              "<Figure size 640x480 with 1 Axes>"
            ],
            "image/png": "[encoded data removed]"
          },
          "metadata": {}
        }
      ]
    },
    {
      "cell_type": "code",
      "source": [],
      "metadata": {
        "id": "l4aQ9Vs1_iVW"
      },
      "execution_count": null,
      "outputs": []
    },
    {
      "cell_type": "code",
      "source": [
        "import smtplib\n",
        "from email.mime.multipart import MIMEMultipart\n",
        "from email.mime.text import MIMEText\n",
        "from email.mime.image import MIMEImage\n",
        "from email import encoders\n",
        "\n",
        "# Email configuration\n",
        "sender_email = 'engr.sushmita@gmail.com'\n",
        "sender_password = 'fvoaehrkngjrigau'\n",
        "receiver_email = 'almehady@gmail.com'\n",
        "subject = 'Histogram Email'\n",
        "message = 'Please find the histogram attached.'\n",
        "\n",
        "# Create the email message\n",
        "msg = MIMEMultipart()\n",
        "msg['From'] = sender_email\n",
        "msg['To'] = receiver_email\n",
        "msg['Subject'] = subject\n",
        "msg.attach(MIMEText(message, 'plain'))\n",
        "\n",
        "# Attach the histogram.png file\n",
        "with open('histogram.png', 'rb') as file:\n",
        "    image = MIMEImage(file.read(), name='histogram.png')\n",
        "    msg.attach(image)\n",
        "\n",
        "# Connect to the SMTP server and send the email\n",
        "with smtplib.SMTP(host='smtp.gmail.com', port=587) as server:\n",
        "    server.starttls()\n",
        "    server.login(sender_email, sender_password)\n",
        "    server.send_message(msg)\n",
        "\n",
        "print('Email sent successfully!')"
      ],
      "metadata": {
        "colab": {
          "base_uri": "https://localhost:8080/"
        },
        "id": "FvxyRVfWxZEE",
        "outputId": "ec122d5e-bee1-4013-9d9c-2eac8c26791e"
      },
      "execution_count": 3,
      "outputs": [
        {
          "output_type": "stream",
          "name": "stdout",
          "text": [
            "Email sent successfully!\n"
          ]
        }
      ]
    }
  ]
}